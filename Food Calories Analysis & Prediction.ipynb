{
 "cells": [
  {
   "cell_type": "markdown",
   "id": "19c8c216",
   "metadata": {
    "papermill": {
     "duration": 0.00714,
     "end_time": "2023-10-18T06:53:45.734522",
     "exception": false,
     "start_time": "2023-10-18T06:53:45.727382",
     "status": "completed"
    },
    "tags": []
   },
   "source": [
    "#### IMPORTING REQUIRED LIBRARIES"
   ]
  },
  {
   "cell_type": "code",
   "execution_count": 369,
   "id": "6349a0eb",
   "metadata": {
    "execution": {
     "iopub.execute_input": "2023-10-18T06:53:45.750323Z",
     "iopub.status.busy": "2023-10-18T06:53:45.749759Z",
     "iopub.status.idle": "2023-10-18T06:53:47.773417Z",
     "shell.execute_reply": "2023-10-18T06:53:47.772558Z"
    },
    "papermill": {
     "duration": 2.034135,
     "end_time": "2023-10-18T06:53:47.775547",
     "exception": false,
     "start_time": "2023-10-18T06:53:45.741412",
     "status": "completed"
    },
    "tags": []
   },
   "outputs": [],
   "source": [
    "import numpy as np\n",
    "import pandas as pd\n",
    "import matplotlib.pyplot as plt\n",
    "import seaborn as sns\n",
    "from sklearn.model_selection import train_test_split"
   ]
  },
  {
   "cell_type": "code",
   "execution_count": 370,
   "id": "457cc3ed",
   "metadata": {
    "execution": {
     "iopub.execute_input": "2023-10-18T06:53:47.818672Z",
     "iopub.status.busy": "2023-10-18T06:53:47.817734Z",
     "iopub.status.idle": "2023-10-18T06:53:47.892124Z",
     "shell.execute_reply": "2023-10-18T06:53:47.891039Z"
    },
    "papermill": {
     "duration": 0.087444,
     "end_time": "2023-10-18T06:53:47.894459",
     "exception": false,
     "start_time": "2023-10-18T06:53:47.807015",
     "status": "completed"
    },
    "tags": []
   },
   "outputs": [
    {
     "data": {
      "text/html": [
       "<div>\n",
       "<style scoped>\n",
       "    .dataframe tbody tr th:only-of-type {\n",
       "        vertical-align: middle;\n",
       "    }\n",
       "\n",
       "    .dataframe tbody tr th {\n",
       "        vertical-align: top;\n",
       "    }\n",
       "\n",
       "    .dataframe thead th {\n",
       "        text-align: right;\n",
       "    }\n",
       "</style>\n",
       "<table border=\"1\" class=\"dataframe\">\n",
       "  <thead>\n",
       "    <tr style=\"text-align: right;\">\n",
       "      <th></th>\n",
       "      <th>Unnamed: 0</th>\n",
       "      <th>restaurant</th>\n",
       "      <th>item</th>\n",
       "      <th>calories</th>\n",
       "      <th>cal_fat</th>\n",
       "      <th>total_fat</th>\n",
       "      <th>sat_fat</th>\n",
       "      <th>trans_fat</th>\n",
       "      <th>cholesterol</th>\n",
       "      <th>sodium</th>\n",
       "      <th>total_carb</th>\n",
       "      <th>fiber</th>\n",
       "      <th>sugar</th>\n",
       "      <th>protein</th>\n",
       "      <th>vit_a</th>\n",
       "      <th>vit_c</th>\n",
       "      <th>calcium</th>\n",
       "      <th>salad</th>\n",
       "    </tr>\n",
       "  </thead>\n",
       "  <tbody>\n",
       "    <tr>\n",
       "      <th>0</th>\n",
       "      <td>1</td>\n",
       "      <td>Mcdonalds</td>\n",
       "      <td>Artisan Grilled Chicken Sandwich</td>\n",
       "      <td>380</td>\n",
       "      <td>60</td>\n",
       "      <td>7</td>\n",
       "      <td>2.0</td>\n",
       "      <td>0.0</td>\n",
       "      <td>95</td>\n",
       "      <td>1110</td>\n",
       "      <td>44</td>\n",
       "      <td>3.0</td>\n",
       "      <td>11</td>\n",
       "      <td>37.0</td>\n",
       "      <td>4.0</td>\n",
       "      <td>20.0</td>\n",
       "      <td>20.0</td>\n",
       "      <td>Other</td>\n",
       "    </tr>\n",
       "    <tr>\n",
       "      <th>1</th>\n",
       "      <td>2</td>\n",
       "      <td>Mcdonalds</td>\n",
       "      <td>Single Bacon Smokehouse Burger</td>\n",
       "      <td>840</td>\n",
       "      <td>410</td>\n",
       "      <td>45</td>\n",
       "      <td>17.0</td>\n",
       "      <td>1.5</td>\n",
       "      <td>130</td>\n",
       "      <td>1580</td>\n",
       "      <td>62</td>\n",
       "      <td>2.0</td>\n",
       "      <td>18</td>\n",
       "      <td>46.0</td>\n",
       "      <td>6.0</td>\n",
       "      <td>20.0</td>\n",
       "      <td>20.0</td>\n",
       "      <td>Other</td>\n",
       "    </tr>\n",
       "    <tr>\n",
       "      <th>2</th>\n",
       "      <td>3</td>\n",
       "      <td>Mcdonalds</td>\n",
       "      <td>Double Bacon Smokehouse Burger</td>\n",
       "      <td>1130</td>\n",
       "      <td>600</td>\n",
       "      <td>67</td>\n",
       "      <td>27.0</td>\n",
       "      <td>3.0</td>\n",
       "      <td>220</td>\n",
       "      <td>1920</td>\n",
       "      <td>63</td>\n",
       "      <td>3.0</td>\n",
       "      <td>18</td>\n",
       "      <td>70.0</td>\n",
       "      <td>10.0</td>\n",
       "      <td>20.0</td>\n",
       "      <td>50.0</td>\n",
       "      <td>Other</td>\n",
       "    </tr>\n",
       "    <tr>\n",
       "      <th>3</th>\n",
       "      <td>4</td>\n",
       "      <td>Mcdonalds</td>\n",
       "      <td>Grilled Bacon Smokehouse Chicken Sandwich</td>\n",
       "      <td>750</td>\n",
       "      <td>280</td>\n",
       "      <td>31</td>\n",
       "      <td>10.0</td>\n",
       "      <td>0.5</td>\n",
       "      <td>155</td>\n",
       "      <td>1940</td>\n",
       "      <td>62</td>\n",
       "      <td>2.0</td>\n",
       "      <td>18</td>\n",
       "      <td>55.0</td>\n",
       "      <td>6.0</td>\n",
       "      <td>25.0</td>\n",
       "      <td>20.0</td>\n",
       "      <td>Other</td>\n",
       "    </tr>\n",
       "    <tr>\n",
       "      <th>4</th>\n",
       "      <td>5</td>\n",
       "      <td>Mcdonalds</td>\n",
       "      <td>Crispy Bacon Smokehouse Chicken Sandwich</td>\n",
       "      <td>920</td>\n",
       "      <td>410</td>\n",
       "      <td>45</td>\n",
       "      <td>12.0</td>\n",
       "      <td>0.5</td>\n",
       "      <td>120</td>\n",
       "      <td>1980</td>\n",
       "      <td>81</td>\n",
       "      <td>4.0</td>\n",
       "      <td>18</td>\n",
       "      <td>46.0</td>\n",
       "      <td>6.0</td>\n",
       "      <td>20.0</td>\n",
       "      <td>20.0</td>\n",
       "      <td>Other</td>\n",
       "    </tr>\n",
       "    <tr>\n",
       "      <th>...</th>\n",
       "      <td>...</td>\n",
       "      <td>...</td>\n",
       "      <td>...</td>\n",
       "      <td>...</td>\n",
       "      <td>...</td>\n",
       "      <td>...</td>\n",
       "      <td>...</td>\n",
       "      <td>...</td>\n",
       "      <td>...</td>\n",
       "      <td>...</td>\n",
       "      <td>...</td>\n",
       "      <td>...</td>\n",
       "      <td>...</td>\n",
       "      <td>...</td>\n",
       "      <td>...</td>\n",
       "      <td>...</td>\n",
       "      <td>...</td>\n",
       "      <td>...</td>\n",
       "    </tr>\n",
       "    <tr>\n",
       "      <th>510</th>\n",
       "      <td>511</td>\n",
       "      <td>Taco Bell</td>\n",
       "      <td>Spicy Triple Double Crunchwrap</td>\n",
       "      <td>780</td>\n",
       "      <td>340</td>\n",
       "      <td>38</td>\n",
       "      <td>10.0</td>\n",
       "      <td>0.5</td>\n",
       "      <td>50</td>\n",
       "      <td>1850</td>\n",
       "      <td>87</td>\n",
       "      <td>9.0</td>\n",
       "      <td>8</td>\n",
       "      <td>23.0</td>\n",
       "      <td>20.0</td>\n",
       "      <td>10.0</td>\n",
       "      <td>25.0</td>\n",
       "      <td>Other</td>\n",
       "    </tr>\n",
       "    <tr>\n",
       "      <th>511</th>\n",
       "      <td>512</td>\n",
       "      <td>Taco Bell</td>\n",
       "      <td>Express Taco Salad w/ Chips</td>\n",
       "      <td>580</td>\n",
       "      <td>260</td>\n",
       "      <td>29</td>\n",
       "      <td>9.0</td>\n",
       "      <td>1.0</td>\n",
       "      <td>60</td>\n",
       "      <td>1270</td>\n",
       "      <td>59</td>\n",
       "      <td>8.0</td>\n",
       "      <td>7</td>\n",
       "      <td>23.0</td>\n",
       "      <td>NaN</td>\n",
       "      <td>NaN</td>\n",
       "      <td>NaN</td>\n",
       "      <td>Other</td>\n",
       "    </tr>\n",
       "    <tr>\n",
       "      <th>512</th>\n",
       "      <td>513</td>\n",
       "      <td>Taco Bell</td>\n",
       "      <td>Fiesta Taco Salad-Beef</td>\n",
       "      <td>780</td>\n",
       "      <td>380</td>\n",
       "      <td>42</td>\n",
       "      <td>10.0</td>\n",
       "      <td>1.0</td>\n",
       "      <td>60</td>\n",
       "      <td>1340</td>\n",
       "      <td>74</td>\n",
       "      <td>11.0</td>\n",
       "      <td>7</td>\n",
       "      <td>26.0</td>\n",
       "      <td>NaN</td>\n",
       "      <td>NaN</td>\n",
       "      <td>NaN</td>\n",
       "      <td>Other</td>\n",
       "    </tr>\n",
       "    <tr>\n",
       "      <th>513</th>\n",
       "      <td>514</td>\n",
       "      <td>Taco Bell</td>\n",
       "      <td>Fiesta Taco Salad-Chicken</td>\n",
       "      <td>720</td>\n",
       "      <td>320</td>\n",
       "      <td>35</td>\n",
       "      <td>7.0</td>\n",
       "      <td>0.0</td>\n",
       "      <td>70</td>\n",
       "      <td>1260</td>\n",
       "      <td>70</td>\n",
       "      <td>8.0</td>\n",
       "      <td>8</td>\n",
       "      <td>32.0</td>\n",
       "      <td>NaN</td>\n",
       "      <td>NaN</td>\n",
       "      <td>NaN</td>\n",
       "      <td>Other</td>\n",
       "    </tr>\n",
       "    <tr>\n",
       "      <th>514</th>\n",
       "      <td>515</td>\n",
       "      <td>Taco Bell</td>\n",
       "      <td>Fiesta Taco Salad-Steak</td>\n",
       "      <td>720</td>\n",
       "      <td>320</td>\n",
       "      <td>36</td>\n",
       "      <td>8.0</td>\n",
       "      <td>1.0</td>\n",
       "      <td>55</td>\n",
       "      <td>1340</td>\n",
       "      <td>70</td>\n",
       "      <td>8.0</td>\n",
       "      <td>8</td>\n",
       "      <td>28.0</td>\n",
       "      <td>NaN</td>\n",
       "      <td>NaN</td>\n",
       "      <td>NaN</td>\n",
       "      <td>Other</td>\n",
       "    </tr>\n",
       "  </tbody>\n",
       "</table>\n",
       "<p>515 rows × 18 columns</p>\n",
       "</div>"
      ],
      "text/plain": [
       "     Unnamed: 0 restaurant                                       item  \\\n",
       "0             1  Mcdonalds           Artisan Grilled Chicken Sandwich   \n",
       "1             2  Mcdonalds             Single Bacon Smokehouse Burger   \n",
       "2             3  Mcdonalds             Double Bacon Smokehouse Burger   \n",
       "3             4  Mcdonalds  Grilled Bacon Smokehouse Chicken Sandwich   \n",
       "4             5  Mcdonalds   Crispy Bacon Smokehouse Chicken Sandwich   \n",
       "..          ...        ...                                        ...   \n",
       "510         511  Taco Bell             Spicy Triple Double Crunchwrap   \n",
       "511         512  Taco Bell                Express Taco Salad w/ Chips   \n",
       "512         513  Taco Bell                     Fiesta Taco Salad-Beef   \n",
       "513         514  Taco Bell                  Fiesta Taco Salad-Chicken   \n",
       "514         515  Taco Bell                    Fiesta Taco Salad-Steak   \n",
       "\n",
       "     calories  cal_fat  total_fat  sat_fat  trans_fat  cholesterol  sodium  \\\n",
       "0         380       60          7      2.0        0.0           95    1110   \n",
       "1         840      410         45     17.0        1.5          130    1580   \n",
       "2        1130      600         67     27.0        3.0          220    1920   \n",
       "3         750      280         31     10.0        0.5          155    1940   \n",
       "4         920      410         45     12.0        0.5          120    1980   \n",
       "..        ...      ...        ...      ...        ...          ...     ...   \n",
       "510       780      340         38     10.0        0.5           50    1850   \n",
       "511       580      260         29      9.0        1.0           60    1270   \n",
       "512       780      380         42     10.0        1.0           60    1340   \n",
       "513       720      320         35      7.0        0.0           70    1260   \n",
       "514       720      320         36      8.0        1.0           55    1340   \n",
       "\n",
       "     total_carb  fiber  sugar  protein  vit_a  vit_c  calcium  salad  \n",
       "0            44    3.0     11     37.0    4.0   20.0     20.0  Other  \n",
       "1            62    2.0     18     46.0    6.0   20.0     20.0  Other  \n",
       "2            63    3.0     18     70.0   10.0   20.0     50.0  Other  \n",
       "3            62    2.0     18     55.0    6.0   25.0     20.0  Other  \n",
       "4            81    4.0     18     46.0    6.0   20.0     20.0  Other  \n",
       "..          ...    ...    ...      ...    ...    ...      ...    ...  \n",
       "510          87    9.0      8     23.0   20.0   10.0     25.0  Other  \n",
       "511          59    8.0      7     23.0    NaN    NaN      NaN  Other  \n",
       "512          74   11.0      7     26.0    NaN    NaN      NaN  Other  \n",
       "513          70    8.0      8     32.0    NaN    NaN      NaN  Other  \n",
       "514          70    8.0      8     28.0    NaN    NaN      NaN  Other  \n",
       "\n",
       "[515 rows x 18 columns]"
      ]
     },
     "execution_count": 370,
     "metadata": {},
     "output_type": "execute_result"
    }
   ],
   "source": [
    "data = pd.read_csv(\"C:\\\\Users\\\\Ziyad Tarek\\\\Desktop\\\\fastfood_calories.csv\",sep=',',engine='python',encoding='utf-8')\n",
    "data"
   ]
  },
  {
   "cell_type": "code",
   "execution_count": 371,
   "id": "5172c639",
   "metadata": {},
   "outputs": [
    {
     "data": {
      "text/html": [
       "<div>\n",
       "<style scoped>\n",
       "    .dataframe tbody tr th:only-of-type {\n",
       "        vertical-align: middle;\n",
       "    }\n",
       "\n",
       "    .dataframe tbody tr th {\n",
       "        vertical-align: top;\n",
       "    }\n",
       "\n",
       "    .dataframe thead th {\n",
       "        text-align: right;\n",
       "    }\n",
       "</style>\n",
       "<table border=\"1\" class=\"dataframe\">\n",
       "  <thead>\n",
       "    <tr style=\"text-align: right;\">\n",
       "      <th></th>\n",
       "      <th>Unnamed: 0</th>\n",
       "      <th>restaurant</th>\n",
       "      <th>item</th>\n",
       "      <th>calories</th>\n",
       "      <th>cal_fat</th>\n",
       "      <th>total_fat</th>\n",
       "      <th>sat_fat</th>\n",
       "      <th>trans_fat</th>\n",
       "      <th>cholesterol</th>\n",
       "      <th>sodium</th>\n",
       "      <th>total_carb</th>\n",
       "      <th>fiber</th>\n",
       "      <th>sugar</th>\n",
       "      <th>protein</th>\n",
       "      <th>vit_a</th>\n",
       "      <th>vit_c</th>\n",
       "      <th>calcium</th>\n",
       "      <th>salad</th>\n",
       "    </tr>\n",
       "  </thead>\n",
       "  <tbody>\n",
       "    <tr>\n",
       "      <th>0</th>\n",
       "      <td>1</td>\n",
       "      <td>Mcdonalds</td>\n",
       "      <td>Artisan Grilled Chicken Sandwich</td>\n",
       "      <td>380</td>\n",
       "      <td>60</td>\n",
       "      <td>7</td>\n",
       "      <td>2.0</td>\n",
       "      <td>0.0</td>\n",
       "      <td>95</td>\n",
       "      <td>1110</td>\n",
       "      <td>44</td>\n",
       "      <td>3.0</td>\n",
       "      <td>11</td>\n",
       "      <td>37.0</td>\n",
       "      <td>4.0</td>\n",
       "      <td>20.0</td>\n",
       "      <td>20.0</td>\n",
       "      <td>Other</td>\n",
       "    </tr>\n",
       "    <tr>\n",
       "      <th>1</th>\n",
       "      <td>2</td>\n",
       "      <td>Mcdonalds</td>\n",
       "      <td>Single Bacon Smokehouse Burger</td>\n",
       "      <td>840</td>\n",
       "      <td>410</td>\n",
       "      <td>45</td>\n",
       "      <td>17.0</td>\n",
       "      <td>1.5</td>\n",
       "      <td>130</td>\n",
       "      <td>1580</td>\n",
       "      <td>62</td>\n",
       "      <td>2.0</td>\n",
       "      <td>18</td>\n",
       "      <td>46.0</td>\n",
       "      <td>6.0</td>\n",
       "      <td>20.0</td>\n",
       "      <td>20.0</td>\n",
       "      <td>Other</td>\n",
       "    </tr>\n",
       "    <tr>\n",
       "      <th>2</th>\n",
       "      <td>3</td>\n",
       "      <td>Mcdonalds</td>\n",
       "      <td>Double Bacon Smokehouse Burger</td>\n",
       "      <td>1130</td>\n",
       "      <td>600</td>\n",
       "      <td>67</td>\n",
       "      <td>27.0</td>\n",
       "      <td>3.0</td>\n",
       "      <td>220</td>\n",
       "      <td>1920</td>\n",
       "      <td>63</td>\n",
       "      <td>3.0</td>\n",
       "      <td>18</td>\n",
       "      <td>70.0</td>\n",
       "      <td>10.0</td>\n",
       "      <td>20.0</td>\n",
       "      <td>50.0</td>\n",
       "      <td>Other</td>\n",
       "    </tr>\n",
       "    <tr>\n",
       "      <th>3</th>\n",
       "      <td>4</td>\n",
       "      <td>Mcdonalds</td>\n",
       "      <td>Grilled Bacon Smokehouse Chicken Sandwich</td>\n",
       "      <td>750</td>\n",
       "      <td>280</td>\n",
       "      <td>31</td>\n",
       "      <td>10.0</td>\n",
       "      <td>0.5</td>\n",
       "      <td>155</td>\n",
       "      <td>1940</td>\n",
       "      <td>62</td>\n",
       "      <td>2.0</td>\n",
       "      <td>18</td>\n",
       "      <td>55.0</td>\n",
       "      <td>6.0</td>\n",
       "      <td>25.0</td>\n",
       "      <td>20.0</td>\n",
       "      <td>Other</td>\n",
       "    </tr>\n",
       "    <tr>\n",
       "      <th>4</th>\n",
       "      <td>5</td>\n",
       "      <td>Mcdonalds</td>\n",
       "      <td>Crispy Bacon Smokehouse Chicken Sandwich</td>\n",
       "      <td>920</td>\n",
       "      <td>410</td>\n",
       "      <td>45</td>\n",
       "      <td>12.0</td>\n",
       "      <td>0.5</td>\n",
       "      <td>120</td>\n",
       "      <td>1980</td>\n",
       "      <td>81</td>\n",
       "      <td>4.0</td>\n",
       "      <td>18</td>\n",
       "      <td>46.0</td>\n",
       "      <td>6.0</td>\n",
       "      <td>20.0</td>\n",
       "      <td>20.0</td>\n",
       "      <td>Other</td>\n",
       "    </tr>\n",
       "  </tbody>\n",
       "</table>\n",
       "</div>"
      ],
      "text/plain": [
       "   Unnamed: 0 restaurant                                       item  calories  \\\n",
       "0           1  Mcdonalds           Artisan Grilled Chicken Sandwich       380   \n",
       "1           2  Mcdonalds             Single Bacon Smokehouse Burger       840   \n",
       "2           3  Mcdonalds             Double Bacon Smokehouse Burger      1130   \n",
       "3           4  Mcdonalds  Grilled Bacon Smokehouse Chicken Sandwich       750   \n",
       "4           5  Mcdonalds   Crispy Bacon Smokehouse Chicken Sandwich       920   \n",
       "\n",
       "   cal_fat  total_fat  sat_fat  trans_fat  cholesterol  sodium  total_carb  \\\n",
       "0       60          7      2.0        0.0           95    1110          44   \n",
       "1      410         45     17.0        1.5          130    1580          62   \n",
       "2      600         67     27.0        3.0          220    1920          63   \n",
       "3      280         31     10.0        0.5          155    1940          62   \n",
       "4      410         45     12.0        0.5          120    1980          81   \n",
       "\n",
       "   fiber  sugar  protein  vit_a  vit_c  calcium  salad  \n",
       "0    3.0     11     37.0    4.0   20.0     20.0  Other  \n",
       "1    2.0     18     46.0    6.0   20.0     20.0  Other  \n",
       "2    3.0     18     70.0   10.0   20.0     50.0  Other  \n",
       "3    2.0     18     55.0    6.0   25.0     20.0  Other  \n",
       "4    4.0     18     46.0    6.0   20.0     20.0  Other  "
      ]
     },
     "execution_count": 371,
     "metadata": {},
     "output_type": "execute_result"
    }
   ],
   "source": [
    "data.head()"
   ]
  },
  {
   "cell_type": "code",
   "execution_count": 372,
   "id": "7cae6e52",
   "metadata": {},
   "outputs": [
    {
     "data": {
      "text/html": [
       "<div>\n",
       "<style scoped>\n",
       "    .dataframe tbody tr th:only-of-type {\n",
       "        vertical-align: middle;\n",
       "    }\n",
       "\n",
       "    .dataframe tbody tr th {\n",
       "        vertical-align: top;\n",
       "    }\n",
       "\n",
       "    .dataframe thead th {\n",
       "        text-align: right;\n",
       "    }\n",
       "</style>\n",
       "<table border=\"1\" class=\"dataframe\">\n",
       "  <thead>\n",
       "    <tr style=\"text-align: right;\">\n",
       "      <th></th>\n",
       "      <th>Unnamed: 0</th>\n",
       "      <th>restaurant</th>\n",
       "      <th>item</th>\n",
       "      <th>calories</th>\n",
       "      <th>cal_fat</th>\n",
       "      <th>total_fat</th>\n",
       "      <th>sat_fat</th>\n",
       "      <th>trans_fat</th>\n",
       "      <th>cholesterol</th>\n",
       "      <th>sodium</th>\n",
       "      <th>total_carb</th>\n",
       "      <th>fiber</th>\n",
       "      <th>sugar</th>\n",
       "      <th>protein</th>\n",
       "      <th>vit_a</th>\n",
       "      <th>vit_c</th>\n",
       "      <th>calcium</th>\n",
       "      <th>salad</th>\n",
       "    </tr>\n",
       "  </thead>\n",
       "  <tbody>\n",
       "    <tr>\n",
       "      <th>510</th>\n",
       "      <td>511</td>\n",
       "      <td>Taco Bell</td>\n",
       "      <td>Spicy Triple Double Crunchwrap</td>\n",
       "      <td>780</td>\n",
       "      <td>340</td>\n",
       "      <td>38</td>\n",
       "      <td>10.0</td>\n",
       "      <td>0.5</td>\n",
       "      <td>50</td>\n",
       "      <td>1850</td>\n",
       "      <td>87</td>\n",
       "      <td>9.0</td>\n",
       "      <td>8</td>\n",
       "      <td>23.0</td>\n",
       "      <td>20.0</td>\n",
       "      <td>10.0</td>\n",
       "      <td>25.0</td>\n",
       "      <td>Other</td>\n",
       "    </tr>\n",
       "    <tr>\n",
       "      <th>511</th>\n",
       "      <td>512</td>\n",
       "      <td>Taco Bell</td>\n",
       "      <td>Express Taco Salad w/ Chips</td>\n",
       "      <td>580</td>\n",
       "      <td>260</td>\n",
       "      <td>29</td>\n",
       "      <td>9.0</td>\n",
       "      <td>1.0</td>\n",
       "      <td>60</td>\n",
       "      <td>1270</td>\n",
       "      <td>59</td>\n",
       "      <td>8.0</td>\n",
       "      <td>7</td>\n",
       "      <td>23.0</td>\n",
       "      <td>NaN</td>\n",
       "      <td>NaN</td>\n",
       "      <td>NaN</td>\n",
       "      <td>Other</td>\n",
       "    </tr>\n",
       "    <tr>\n",
       "      <th>512</th>\n",
       "      <td>513</td>\n",
       "      <td>Taco Bell</td>\n",
       "      <td>Fiesta Taco Salad-Beef</td>\n",
       "      <td>780</td>\n",
       "      <td>380</td>\n",
       "      <td>42</td>\n",
       "      <td>10.0</td>\n",
       "      <td>1.0</td>\n",
       "      <td>60</td>\n",
       "      <td>1340</td>\n",
       "      <td>74</td>\n",
       "      <td>11.0</td>\n",
       "      <td>7</td>\n",
       "      <td>26.0</td>\n",
       "      <td>NaN</td>\n",
       "      <td>NaN</td>\n",
       "      <td>NaN</td>\n",
       "      <td>Other</td>\n",
       "    </tr>\n",
       "    <tr>\n",
       "      <th>513</th>\n",
       "      <td>514</td>\n",
       "      <td>Taco Bell</td>\n",
       "      <td>Fiesta Taco Salad-Chicken</td>\n",
       "      <td>720</td>\n",
       "      <td>320</td>\n",
       "      <td>35</td>\n",
       "      <td>7.0</td>\n",
       "      <td>0.0</td>\n",
       "      <td>70</td>\n",
       "      <td>1260</td>\n",
       "      <td>70</td>\n",
       "      <td>8.0</td>\n",
       "      <td>8</td>\n",
       "      <td>32.0</td>\n",
       "      <td>NaN</td>\n",
       "      <td>NaN</td>\n",
       "      <td>NaN</td>\n",
       "      <td>Other</td>\n",
       "    </tr>\n",
       "    <tr>\n",
       "      <th>514</th>\n",
       "      <td>515</td>\n",
       "      <td>Taco Bell</td>\n",
       "      <td>Fiesta Taco Salad-Steak</td>\n",
       "      <td>720</td>\n",
       "      <td>320</td>\n",
       "      <td>36</td>\n",
       "      <td>8.0</td>\n",
       "      <td>1.0</td>\n",
       "      <td>55</td>\n",
       "      <td>1340</td>\n",
       "      <td>70</td>\n",
       "      <td>8.0</td>\n",
       "      <td>8</td>\n",
       "      <td>28.0</td>\n",
       "      <td>NaN</td>\n",
       "      <td>NaN</td>\n",
       "      <td>NaN</td>\n",
       "      <td>Other</td>\n",
       "    </tr>\n",
       "  </tbody>\n",
       "</table>\n",
       "</div>"
      ],
      "text/plain": [
       "     Unnamed: 0 restaurant                            item  calories  cal_fat  \\\n",
       "510         511  Taco Bell  Spicy Triple Double Crunchwrap       780      340   \n",
       "511         512  Taco Bell     Express Taco Salad w/ Chips       580      260   \n",
       "512         513  Taco Bell          Fiesta Taco Salad-Beef       780      380   \n",
       "513         514  Taco Bell       Fiesta Taco Salad-Chicken       720      320   \n",
       "514         515  Taco Bell         Fiesta Taco Salad-Steak       720      320   \n",
       "\n",
       "     total_fat  sat_fat  trans_fat  cholesterol  sodium  total_carb  fiber  \\\n",
       "510         38     10.0        0.5           50    1850          87    9.0   \n",
       "511         29      9.0        1.0           60    1270          59    8.0   \n",
       "512         42     10.0        1.0           60    1340          74   11.0   \n",
       "513         35      7.0        0.0           70    1260          70    8.0   \n",
       "514         36      8.0        1.0           55    1340          70    8.0   \n",
       "\n",
       "     sugar  protein  vit_a  vit_c  calcium  salad  \n",
       "510      8     23.0   20.0   10.0     25.0  Other  \n",
       "511      7     23.0    NaN    NaN      NaN  Other  \n",
       "512      7     26.0    NaN    NaN      NaN  Other  \n",
       "513      8     32.0    NaN    NaN      NaN  Other  \n",
       "514      8     28.0    NaN    NaN      NaN  Other  "
      ]
     },
     "execution_count": 372,
     "metadata": {},
     "output_type": "execute_result"
    }
   ],
   "source": [
    "data.tail()"
   ]
  },
  {
   "cell_type": "code",
   "execution_count": 373,
   "id": "24e5f5c1",
   "metadata": {
    "execution": {
     "iopub.execute_input": "2023-10-18T06:53:47.911552Z",
     "iopub.status.busy": "2023-10-18T06:53:47.910859Z",
     "iopub.status.idle": "2023-10-18T06:53:47.919079Z",
     "shell.execute_reply": "2023-10-18T06:53:47.918011Z"
    },
    "papermill": {
     "duration": 0.01892,
     "end_time": "2023-10-18T06:53:47.920994",
     "exception": false,
     "start_time": "2023-10-18T06:53:47.902074",
     "status": "completed"
    },
    "tags": []
   },
   "outputs": [
    {
     "data": {
      "text/plain": [
       "Unnamed: 0       0\n",
       "restaurant       0\n",
       "item             0\n",
       "calories         0\n",
       "cal_fat          0\n",
       "total_fat        0\n",
       "sat_fat          0\n",
       "trans_fat        0\n",
       "cholesterol      0\n",
       "sodium           0\n",
       "total_carb       0\n",
       "fiber           12\n",
       "sugar            0\n",
       "protein          1\n",
       "vit_a          214\n",
       "vit_c          210\n",
       "calcium        210\n",
       "salad            0\n",
       "dtype: int64"
      ]
     },
     "execution_count": 373,
     "metadata": {},
     "output_type": "execute_result"
    }
   ],
   "source": [
    "data.isnull().sum()"
   ]
  },
  {
   "cell_type": "code",
   "execution_count": 374,
   "id": "cfc7f894",
   "metadata": {
    "execution": {
     "iopub.execute_input": "2023-10-18T06:53:47.938040Z",
     "iopub.status.busy": "2023-10-18T06:53:47.937700Z",
     "iopub.status.idle": "2023-10-18T06:53:47.944085Z",
     "shell.execute_reply": "2023-10-18T06:53:47.943119Z"
    },
    "papermill": {
     "duration": 0.017269,
     "end_time": "2023-10-18T06:53:47.946094",
     "exception": false,
     "start_time": "2023-10-18T06:53:47.928825",
     "status": "completed"
    },
    "tags": []
   },
   "outputs": [
    {
     "data": {
      "text/plain": [
       "515"
      ]
     },
     "execution_count": 374,
     "metadata": {},
     "output_type": "execute_result"
    }
   ],
   "source": [
    "len(data)"
   ]
  },
  {
   "cell_type": "code",
   "execution_count": 375,
   "id": "af1c25c3",
   "metadata": {
    "execution": {
     "iopub.execute_input": "2023-10-18T06:53:47.963579Z",
     "iopub.status.busy": "2023-10-18T06:53:47.963189Z",
     "iopub.status.idle": "2023-10-18T06:53:47.974156Z",
     "shell.execute_reply": "2023-10-18T06:53:47.973116Z"
    },
    "papermill": {
     "duration": 0.022374,
     "end_time": "2023-10-18T06:53:47.976258",
     "exception": false,
     "start_time": "2023-10-18T06:53:47.953884",
     "status": "completed"
    },
    "tags": []
   },
   "outputs": [
    {
     "data": {
      "text/plain": [
       "array(['Other'], dtype=object)"
      ]
     },
     "execution_count": 375,
     "metadata": {},
     "output_type": "execute_result"
    }
   ],
   "source": [
    "data['salad'].unique()"
   ]
  },
  {
   "cell_type": "code",
   "execution_count": 376,
   "id": "cc45c603",
   "metadata": {
    "execution": {
     "iopub.execute_input": "2023-10-18T06:53:47.993720Z",
     "iopub.status.busy": "2023-10-18T06:53:47.993310Z",
     "iopub.status.idle": "2023-10-18T06:53:47.999523Z",
     "shell.execute_reply": "2023-10-18T06:53:47.998816Z"
    },
    "papermill": {
     "duration": 0.01708,
     "end_time": "2023-10-18T06:53:48.001252",
     "exception": false,
     "start_time": "2023-10-18T06:53:47.984172",
     "status": "completed"
    },
    "tags": []
   },
   "outputs": [
    {
     "data": {
      "text/plain": [
       "Index(['Unnamed: 0', 'restaurant', 'item', 'calories', 'cal_fat', 'total_fat',\n",
       "       'sat_fat', 'trans_fat', 'cholesterol', 'sodium', 'total_carb', 'fiber',\n",
       "       'sugar', 'protein', 'vit_a', 'vit_c', 'calcium', 'salad'],\n",
       "      dtype='object')"
      ]
     },
     "execution_count": 376,
     "metadata": {},
     "output_type": "execute_result"
    }
   ],
   "source": [
    "data.columns"
   ]
  },
  {
   "cell_type": "code",
   "execution_count": 377,
   "id": "8e7b0c44",
   "metadata": {
    "execution": {
     "iopub.execute_input": "2023-10-18T06:53:48.018578Z",
     "iopub.status.busy": "2023-10-18T06:53:48.018181Z",
     "iopub.status.idle": "2023-10-18T06:53:48.029644Z",
     "shell.execute_reply": "2023-10-18T06:53:48.028492Z"
    },
    "papermill": {
     "duration": 0.022446,
     "end_time": "2023-10-18T06:53:48.031638",
     "exception": false,
     "start_time": "2023-10-18T06:53:48.009192",
     "status": "completed"
    },
    "tags": []
   },
   "outputs": [],
   "source": [
    "data = data.drop(columns=['Unnamed: 0','salad'])"
   ]
  },
  {
   "cell_type": "code",
   "execution_count": 378,
   "id": "54340eca",
   "metadata": {
    "execution": {
     "iopub.execute_input": "2023-10-18T06:53:48.049721Z",
     "iopub.status.busy": "2023-10-18T06:53:48.048961Z",
     "iopub.status.idle": "2023-10-18T06:53:48.056020Z",
     "shell.execute_reply": "2023-10-18T06:53:48.055243Z"
    },
    "papermill": {
     "duration": 0.018324,
     "end_time": "2023-10-18T06:53:48.058079",
     "exception": false,
     "start_time": "2023-10-18T06:53:48.039755",
     "status": "completed"
    },
    "tags": []
   },
   "outputs": [],
   "source": [
    "data.dropna(subset=['protein','fiber'],inplace=True)"
   ]
  },
  {
   "cell_type": "code",
   "execution_count": 379,
   "id": "8e4fbcf3",
   "metadata": {
    "execution": {
     "iopub.execute_input": "2023-10-18T06:53:48.075686Z",
     "iopub.status.busy": "2023-10-18T06:53:48.075351Z",
     "iopub.status.idle": "2023-10-18T06:53:48.081123Z",
     "shell.execute_reply": "2023-10-18T06:53:48.080022Z"
    },
    "papermill": {
     "duration": 0.01692,
     "end_time": "2023-10-18T06:53:48.083125",
     "exception": false,
     "start_time": "2023-10-18T06:53:48.066205",
     "status": "completed"
    },
    "tags": []
   },
   "outputs": [
    {
     "data": {
      "text/plain": [
       "503"
      ]
     },
     "execution_count": 379,
     "metadata": {},
     "output_type": "execute_result"
    }
   ],
   "source": [
    "len(data)"
   ]
  },
  {
   "cell_type": "code",
   "execution_count": 380,
   "id": "a6adf002",
   "metadata": {
    "execution": {
     "iopub.execute_input": "2023-10-18T06:53:48.100782Z",
     "iopub.status.busy": "2023-10-18T06:53:48.100451Z",
     "iopub.status.idle": "2023-10-18T06:53:48.108382Z",
     "shell.execute_reply": "2023-10-18T06:53:48.107210Z"
    },
    "papermill": {
     "duration": 0.019132,
     "end_time": "2023-10-18T06:53:48.110302",
     "exception": false,
     "start_time": "2023-10-18T06:53:48.091170",
     "status": "completed"
    },
    "tags": []
   },
   "outputs": [
    {
     "data": {
      "text/plain": [
       "restaurant       0\n",
       "item             0\n",
       "calories         0\n",
       "cal_fat          0\n",
       "total_fat        0\n",
       "sat_fat          0\n",
       "trans_fat        0\n",
       "cholesterol      0\n",
       "sodium           0\n",
       "total_carb       0\n",
       "fiber            0\n",
       "sugar            0\n",
       "protein          0\n",
       "vit_a          202\n",
       "vit_c          198\n",
       "calcium        198\n",
       "dtype: int64"
      ]
     },
     "execution_count": 380,
     "metadata": {},
     "output_type": "execute_result"
    }
   ],
   "source": [
    "data.isnull().sum()"
   ]
  },
  {
   "cell_type": "code",
   "execution_count": 381,
   "id": "1bf4342e",
   "metadata": {},
   "outputs": [
    {
     "name": "stdout",
     "output_type": "stream",
     "text": [
      "<class 'pandas.core.frame.DataFrame'>\n",
      "Int64Index: 503 entries, 0 to 514\n",
      "Data columns (total 16 columns):\n",
      " #   Column       Non-Null Count  Dtype  \n",
      "---  ------       --------------  -----  \n",
      " 0   restaurant   503 non-null    object \n",
      " 1   item         503 non-null    object \n",
      " 2   calories     503 non-null    int64  \n",
      " 3   cal_fat      503 non-null    int64  \n",
      " 4   total_fat    503 non-null    int64  \n",
      " 5   sat_fat      503 non-null    float64\n",
      " 6   trans_fat    503 non-null    float64\n",
      " 7   cholesterol  503 non-null    int64  \n",
      " 8   sodium       503 non-null    int64  \n",
      " 9   total_carb   503 non-null    int64  \n",
      " 10  fiber        503 non-null    float64\n",
      " 11  sugar        503 non-null    int64  \n",
      " 12  protein      503 non-null    float64\n",
      " 13  vit_a        301 non-null    float64\n",
      " 14  vit_c        305 non-null    float64\n",
      " 15  calcium      305 non-null    float64\n",
      "dtypes: float64(7), int64(7), object(2)\n",
      "memory usage: 66.8+ KB\n"
     ]
    }
   ],
   "source": [
    "data.info()"
   ]
  },
  {
   "cell_type": "code",
   "execution_count": 382,
   "id": "0345436f",
   "metadata": {},
   "outputs": [
    {
     "data": {
      "text/html": [
       "<div>\n",
       "<style scoped>\n",
       "    .dataframe tbody tr th:only-of-type {\n",
       "        vertical-align: middle;\n",
       "    }\n",
       "\n",
       "    .dataframe tbody tr th {\n",
       "        vertical-align: top;\n",
       "    }\n",
       "\n",
       "    .dataframe thead th {\n",
       "        text-align: right;\n",
       "    }\n",
       "</style>\n",
       "<table border=\"1\" class=\"dataframe\">\n",
       "  <thead>\n",
       "    <tr style=\"text-align: right;\">\n",
       "      <th></th>\n",
       "      <th>calories</th>\n",
       "      <th>cal_fat</th>\n",
       "      <th>total_fat</th>\n",
       "      <th>sat_fat</th>\n",
       "      <th>trans_fat</th>\n",
       "      <th>cholesterol</th>\n",
       "      <th>sodium</th>\n",
       "      <th>total_carb</th>\n",
       "      <th>fiber</th>\n",
       "      <th>sugar</th>\n",
       "      <th>protein</th>\n",
       "      <th>vit_a</th>\n",
       "      <th>vit_c</th>\n",
       "      <th>calcium</th>\n",
       "    </tr>\n",
       "  </thead>\n",
       "  <tbody>\n",
       "    <tr>\n",
       "      <th>count</th>\n",
       "      <td>503.000000</td>\n",
       "      <td>503.000000</td>\n",
       "      <td>503.000000</td>\n",
       "      <td>503.000000</td>\n",
       "      <td>503.000000</td>\n",
       "      <td>503.000000</td>\n",
       "      <td>503.000000</td>\n",
       "      <td>503.000000</td>\n",
       "      <td>503.000000</td>\n",
       "      <td>503.000000</td>\n",
       "      <td>503.000000</td>\n",
       "      <td>301.000000</td>\n",
       "      <td>305.000000</td>\n",
       "      <td>305.000000</td>\n",
       "    </tr>\n",
       "    <tr>\n",
       "      <th>mean</th>\n",
       "      <td>524.453280</td>\n",
       "      <td>234.168986</td>\n",
       "      <td>26.075547</td>\n",
       "      <td>7.983101</td>\n",
       "      <td>0.453280</td>\n",
       "      <td>71.123260</td>\n",
       "      <td>1234.870775</td>\n",
       "      <td>45.447316</td>\n",
       "      <td>4.137177</td>\n",
       "      <td>7.198807</td>\n",
       "      <td>27.709742</td>\n",
       "      <td>18.857143</td>\n",
       "      <td>20.170492</td>\n",
       "      <td>24.852459</td>\n",
       "    </tr>\n",
       "    <tr>\n",
       "      <th>std</th>\n",
       "      <td>280.173625</td>\n",
       "      <td>163.384648</td>\n",
       "      <td>18.074278</td>\n",
       "      <td>6.273975</td>\n",
       "      <td>0.827385</td>\n",
       "      <td>61.979954</td>\n",
       "      <td>689.702021</td>\n",
       "      <td>25.082190</td>\n",
       "      <td>3.037460</td>\n",
       "      <td>6.798189</td>\n",
       "      <td>17.714290</td>\n",
       "      <td>31.384330</td>\n",
       "      <td>30.592243</td>\n",
       "      <td>25.522073</td>\n",
       "    </tr>\n",
       "    <tr>\n",
       "      <th>min</th>\n",
       "      <td>20.000000</td>\n",
       "      <td>0.000000</td>\n",
       "      <td>0.000000</td>\n",
       "      <td>0.000000</td>\n",
       "      <td>0.000000</td>\n",
       "      <td>0.000000</td>\n",
       "      <td>15.000000</td>\n",
       "      <td>0.000000</td>\n",
       "      <td>0.000000</td>\n",
       "      <td>0.000000</td>\n",
       "      <td>1.000000</td>\n",
       "      <td>0.000000</td>\n",
       "      <td>0.000000</td>\n",
       "      <td>0.000000</td>\n",
       "    </tr>\n",
       "    <tr>\n",
       "      <th>25%</th>\n",
       "      <td>330.000000</td>\n",
       "      <td>120.000000</td>\n",
       "      <td>14.000000</td>\n",
       "      <td>4.000000</td>\n",
       "      <td>0.000000</td>\n",
       "      <td>35.000000</td>\n",
       "      <td>800.000000</td>\n",
       "      <td>28.000000</td>\n",
       "      <td>2.000000</td>\n",
       "      <td>3.000000</td>\n",
       "      <td>15.000000</td>\n",
       "      <td>4.000000</td>\n",
       "      <td>4.000000</td>\n",
       "      <td>8.000000</td>\n",
       "    </tr>\n",
       "    <tr>\n",
       "      <th>50%</th>\n",
       "      <td>480.000000</td>\n",
       "      <td>200.000000</td>\n",
       "      <td>23.000000</td>\n",
       "      <td>7.000000</td>\n",
       "      <td>0.000000</td>\n",
       "      <td>60.000000</td>\n",
       "      <td>1100.000000</td>\n",
       "      <td>44.000000</td>\n",
       "      <td>3.000000</td>\n",
       "      <td>6.000000</td>\n",
       "      <td>24.000000</td>\n",
       "      <td>10.000000</td>\n",
       "      <td>10.000000</td>\n",
       "      <td>20.000000</td>\n",
       "    </tr>\n",
       "    <tr>\n",
       "      <th>75%</th>\n",
       "      <td>680.000000</td>\n",
       "      <td>310.000000</td>\n",
       "      <td>34.000000</td>\n",
       "      <td>10.000000</td>\n",
       "      <td>1.000000</td>\n",
       "      <td>90.000000</td>\n",
       "      <td>1540.000000</td>\n",
       "      <td>56.000000</td>\n",
       "      <td>5.000000</td>\n",
       "      <td>9.000000</td>\n",
       "      <td>35.000000</td>\n",
       "      <td>20.000000</td>\n",
       "      <td>30.000000</td>\n",
       "      <td>30.000000</td>\n",
       "    </tr>\n",
       "    <tr>\n",
       "      <th>max</th>\n",
       "      <td>2430.000000</td>\n",
       "      <td>1270.000000</td>\n",
       "      <td>141.000000</td>\n",
       "      <td>47.000000</td>\n",
       "      <td>8.000000</td>\n",
       "      <td>805.000000</td>\n",
       "      <td>6080.000000</td>\n",
       "      <td>156.000000</td>\n",
       "      <td>17.000000</td>\n",
       "      <td>87.000000</td>\n",
       "      <td>186.000000</td>\n",
       "      <td>180.000000</td>\n",
       "      <td>400.000000</td>\n",
       "      <td>290.000000</td>\n",
       "    </tr>\n",
       "  </tbody>\n",
       "</table>\n",
       "</div>"
      ],
      "text/plain": [
       "          calories      cal_fat   total_fat     sat_fat   trans_fat  \\\n",
       "count   503.000000   503.000000  503.000000  503.000000  503.000000   \n",
       "mean    524.453280   234.168986   26.075547    7.983101    0.453280   \n",
       "std     280.173625   163.384648   18.074278    6.273975    0.827385   \n",
       "min      20.000000     0.000000    0.000000    0.000000    0.000000   \n",
       "25%     330.000000   120.000000   14.000000    4.000000    0.000000   \n",
       "50%     480.000000   200.000000   23.000000    7.000000    0.000000   \n",
       "75%     680.000000   310.000000   34.000000   10.000000    1.000000   \n",
       "max    2430.000000  1270.000000  141.000000   47.000000    8.000000   \n",
       "\n",
       "       cholesterol       sodium  total_carb       fiber       sugar  \\\n",
       "count   503.000000   503.000000  503.000000  503.000000  503.000000   \n",
       "mean     71.123260  1234.870775   45.447316    4.137177    7.198807   \n",
       "std      61.979954   689.702021   25.082190    3.037460    6.798189   \n",
       "min       0.000000    15.000000    0.000000    0.000000    0.000000   \n",
       "25%      35.000000   800.000000   28.000000    2.000000    3.000000   \n",
       "50%      60.000000  1100.000000   44.000000    3.000000    6.000000   \n",
       "75%      90.000000  1540.000000   56.000000    5.000000    9.000000   \n",
       "max     805.000000  6080.000000  156.000000   17.000000   87.000000   \n",
       "\n",
       "          protein       vit_a       vit_c     calcium  \n",
       "count  503.000000  301.000000  305.000000  305.000000  \n",
       "mean    27.709742   18.857143   20.170492   24.852459  \n",
       "std     17.714290   31.384330   30.592243   25.522073  \n",
       "min      1.000000    0.000000    0.000000    0.000000  \n",
       "25%     15.000000    4.000000    4.000000    8.000000  \n",
       "50%     24.000000   10.000000   10.000000   20.000000  \n",
       "75%     35.000000   20.000000   30.000000   30.000000  \n",
       "max    186.000000  180.000000  400.000000  290.000000  "
      ]
     },
     "execution_count": 382,
     "metadata": {},
     "output_type": "execute_result"
    }
   ],
   "source": [
    "data.describe()"
   ]
  },
  {
   "cell_type": "markdown",
   "id": "ab26634e",
   "metadata": {
    "papermill": {
     "duration": 0.007657,
     "end_time": "2023-10-18T06:53:48.125995",
     "exception": false,
     "start_time": "2023-10-18T06:53:48.118338",
     "status": "completed"
    },
    "tags": []
   },
   "source": [
    "##### HANDLING MISSING VALUES"
   ]
  },
  {
   "cell_type": "code",
   "execution_count": 383,
   "id": "77276a28",
   "metadata": {
    "execution": {
     "iopub.execute_input": "2023-10-18T06:53:48.143619Z",
     "iopub.status.busy": "2023-10-18T06:53:48.143267Z",
     "iopub.status.idle": "2023-10-18T06:53:48.152975Z",
     "shell.execute_reply": "2023-10-18T06:53:48.152036Z"
    },
    "papermill": {
     "duration": 0.021052,
     "end_time": "2023-10-18T06:53:48.155103",
     "exception": false,
     "start_time": "2023-10-18T06:53:48.134051",
     "status": "completed"
    },
    "tags": []
   },
   "outputs": [],
   "source": [
    "# Specifying the columns you want to fill\n",
    "columns_to_fill = ['vit_a', 'vit_c', 'calcium']\n",
    "\n",
    "# Fill null values in the specified columns with the mean\n",
    "data[columns_to_fill] = data[columns_to_fill].fillna(data[columns_to_fill].mean())"
   ]
  },
  {
   "cell_type": "code",
   "execution_count": 384,
   "id": "777228a9",
   "metadata": {
    "execution": {
     "iopub.execute_input": "2023-10-18T06:53:48.172997Z",
     "iopub.status.busy": "2023-10-18T06:53:48.172661Z",
     "iopub.status.idle": "2023-10-18T06:53:48.181197Z",
     "shell.execute_reply": "2023-10-18T06:53:48.180135Z"
    },
    "papermill": {
     "duration": 0.019932,
     "end_time": "2023-10-18T06:53:48.183279",
     "exception": false,
     "start_time": "2023-10-18T06:53:48.163347",
     "status": "completed"
    },
    "tags": []
   },
   "outputs": [
    {
     "data": {
      "text/plain": [
       "restaurant     0\n",
       "item           0\n",
       "calories       0\n",
       "cal_fat        0\n",
       "total_fat      0\n",
       "sat_fat        0\n",
       "trans_fat      0\n",
       "cholesterol    0\n",
       "sodium         0\n",
       "total_carb     0\n",
       "fiber          0\n",
       "sugar          0\n",
       "protein        0\n",
       "vit_a          0\n",
       "vit_c          0\n",
       "calcium        0\n",
       "dtype: int64"
      ]
     },
     "execution_count": 384,
     "metadata": {},
     "output_type": "execute_result"
    }
   ],
   "source": [
    "data.isnull().sum()"
   ]
  },
  {
   "cell_type": "code",
   "execution_count": 385,
   "id": "b9793ea0",
   "metadata": {
    "execution": {
     "iopub.execute_input": "2023-10-18T06:53:48.201421Z",
     "iopub.status.busy": "2023-10-18T06:53:48.201058Z",
     "iopub.status.idle": "2023-10-18T06:53:48.206780Z",
     "shell.execute_reply": "2023-10-18T06:53:48.205788Z"
    },
    "papermill": {
     "duration": 0.017246,
     "end_time": "2023-10-18T06:53:48.208839",
     "exception": false,
     "start_time": "2023-10-18T06:53:48.191593",
     "status": "completed"
    },
    "tags": []
   },
   "outputs": [
    {
     "data": {
      "text/plain": [
       "503"
      ]
     },
     "execution_count": 385,
     "metadata": {},
     "output_type": "execute_result"
    }
   ],
   "source": [
    "len(data)"
   ]
  },
  {
   "cell_type": "code",
   "execution_count": 386,
   "id": "e71b7336",
   "metadata": {
    "execution": {
     "iopub.execute_input": "2023-10-18T06:53:48.226955Z",
     "iopub.status.busy": "2023-10-18T06:53:48.226427Z",
     "iopub.status.idle": "2023-10-18T06:53:48.243394Z",
     "shell.execute_reply": "2023-10-18T06:53:48.242229Z"
    },
    "papermill": {
     "duration": 0.028164,
     "end_time": "2023-10-18T06:53:48.245306",
     "exception": false,
     "start_time": "2023-10-18T06:53:48.217142",
     "status": "completed"
    },
    "tags": []
   },
   "outputs": [
    {
     "data": {
      "text/html": [
       "<div>\n",
       "<style scoped>\n",
       "    .dataframe tbody tr th:only-of-type {\n",
       "        vertical-align: middle;\n",
       "    }\n",
       "\n",
       "    .dataframe tbody tr th {\n",
       "        vertical-align: top;\n",
       "    }\n",
       "\n",
       "    .dataframe thead th {\n",
       "        text-align: right;\n",
       "    }\n",
       "</style>\n",
       "<table border=\"1\" class=\"dataframe\">\n",
       "  <thead>\n",
       "    <tr style=\"text-align: right;\">\n",
       "      <th></th>\n",
       "      <th>restaurant</th>\n",
       "      <th>item</th>\n",
       "      <th>calories</th>\n",
       "      <th>cal_fat</th>\n",
       "      <th>total_fat</th>\n",
       "      <th>sat_fat</th>\n",
       "      <th>trans_fat</th>\n",
       "      <th>cholesterol</th>\n",
       "      <th>sodium</th>\n",
       "      <th>total_carb</th>\n",
       "      <th>fiber</th>\n",
       "      <th>sugar</th>\n",
       "      <th>protein</th>\n",
       "      <th>vit_a</th>\n",
       "      <th>vit_c</th>\n",
       "      <th>calcium</th>\n",
       "    </tr>\n",
       "  </thead>\n",
       "  <tbody>\n",
       "    <tr>\n",
       "      <th>0</th>\n",
       "      <td>Mcdonalds</td>\n",
       "      <td>Artisan Grilled Chicken Sandwich</td>\n",
       "      <td>380</td>\n",
       "      <td>60</td>\n",
       "      <td>7</td>\n",
       "      <td>2.0</td>\n",
       "      <td>0.0</td>\n",
       "      <td>95</td>\n",
       "      <td>1110</td>\n",
       "      <td>44</td>\n",
       "      <td>3.0</td>\n",
       "      <td>11</td>\n",
       "      <td>37.0</td>\n",
       "      <td>4.0</td>\n",
       "      <td>20.0</td>\n",
       "      <td>20.0</td>\n",
       "    </tr>\n",
       "    <tr>\n",
       "      <th>1</th>\n",
       "      <td>Mcdonalds</td>\n",
       "      <td>Single Bacon Smokehouse Burger</td>\n",
       "      <td>840</td>\n",
       "      <td>410</td>\n",
       "      <td>45</td>\n",
       "      <td>17.0</td>\n",
       "      <td>1.5</td>\n",
       "      <td>130</td>\n",
       "      <td>1580</td>\n",
       "      <td>62</td>\n",
       "      <td>2.0</td>\n",
       "      <td>18</td>\n",
       "      <td>46.0</td>\n",
       "      <td>6.0</td>\n",
       "      <td>20.0</td>\n",
       "      <td>20.0</td>\n",
       "    </tr>\n",
       "    <tr>\n",
       "      <th>2</th>\n",
       "      <td>Mcdonalds</td>\n",
       "      <td>Double Bacon Smokehouse Burger</td>\n",
       "      <td>1130</td>\n",
       "      <td>600</td>\n",
       "      <td>67</td>\n",
       "      <td>27.0</td>\n",
       "      <td>3.0</td>\n",
       "      <td>220</td>\n",
       "      <td>1920</td>\n",
       "      <td>63</td>\n",
       "      <td>3.0</td>\n",
       "      <td>18</td>\n",
       "      <td>70.0</td>\n",
       "      <td>10.0</td>\n",
       "      <td>20.0</td>\n",
       "      <td>50.0</td>\n",
       "    </tr>\n",
       "    <tr>\n",
       "      <th>3</th>\n",
       "      <td>Mcdonalds</td>\n",
       "      <td>Grilled Bacon Smokehouse Chicken Sandwich</td>\n",
       "      <td>750</td>\n",
       "      <td>280</td>\n",
       "      <td>31</td>\n",
       "      <td>10.0</td>\n",
       "      <td>0.5</td>\n",
       "      <td>155</td>\n",
       "      <td>1940</td>\n",
       "      <td>62</td>\n",
       "      <td>2.0</td>\n",
       "      <td>18</td>\n",
       "      <td>55.0</td>\n",
       "      <td>6.0</td>\n",
       "      <td>25.0</td>\n",
       "      <td>20.0</td>\n",
       "    </tr>\n",
       "    <tr>\n",
       "      <th>4</th>\n",
       "      <td>Mcdonalds</td>\n",
       "      <td>Crispy Bacon Smokehouse Chicken Sandwich</td>\n",
       "      <td>920</td>\n",
       "      <td>410</td>\n",
       "      <td>45</td>\n",
       "      <td>12.0</td>\n",
       "      <td>0.5</td>\n",
       "      <td>120</td>\n",
       "      <td>1980</td>\n",
       "      <td>81</td>\n",
       "      <td>4.0</td>\n",
       "      <td>18</td>\n",
       "      <td>46.0</td>\n",
       "      <td>6.0</td>\n",
       "      <td>20.0</td>\n",
       "      <td>20.0</td>\n",
       "    </tr>\n",
       "  </tbody>\n",
       "</table>\n",
       "</div>"
      ],
      "text/plain": [
       "  restaurant                                       item  calories  cal_fat  \\\n",
       "0  Mcdonalds           Artisan Grilled Chicken Sandwich       380       60   \n",
       "1  Mcdonalds             Single Bacon Smokehouse Burger       840      410   \n",
       "2  Mcdonalds             Double Bacon Smokehouse Burger      1130      600   \n",
       "3  Mcdonalds  Grilled Bacon Smokehouse Chicken Sandwich       750      280   \n",
       "4  Mcdonalds   Crispy Bacon Smokehouse Chicken Sandwich       920      410   \n",
       "\n",
       "   total_fat  sat_fat  trans_fat  cholesterol  sodium  total_carb  fiber  \\\n",
       "0          7      2.0        0.0           95    1110          44    3.0   \n",
       "1         45     17.0        1.5          130    1580          62    2.0   \n",
       "2         67     27.0        3.0          220    1920          63    3.0   \n",
       "3         31     10.0        0.5          155    1940          62    2.0   \n",
       "4         45     12.0        0.5          120    1980          81    4.0   \n",
       "\n",
       "   sugar  protein  vit_a  vit_c  calcium  \n",
       "0     11     37.0    4.0   20.0     20.0  \n",
       "1     18     46.0    6.0   20.0     20.0  \n",
       "2     18     70.0   10.0   20.0     50.0  \n",
       "3     18     55.0    6.0   25.0     20.0  \n",
       "4     18     46.0    6.0   20.0     20.0  "
      ]
     },
     "execution_count": 386,
     "metadata": {},
     "output_type": "execute_result"
    }
   ],
   "source": [
    "data.head()"
   ]
  },
  {
   "cell_type": "code",
   "execution_count": 387,
   "id": "8ba05085",
   "metadata": {
    "execution": {
     "iopub.execute_input": "2023-10-18T06:53:48.263855Z",
     "iopub.status.busy": "2023-10-18T06:53:48.263264Z",
     "iopub.status.idle": "2023-10-18T06:53:48.485107Z",
     "shell.execute_reply": "2023-10-18T06:53:48.484067Z"
    },
    "papermill": {
     "duration": 0.233635,
     "end_time": "2023-10-18T06:53:48.487305",
     "exception": false,
     "start_time": "2023-10-18T06:53:48.253670",
     "status": "completed"
    },
    "tags": []
   },
   "outputs": [
    {
     "data": {
      "image/png": "[encoded data removed]",
      "text/plain": [
       "<Figure size 500x500 with 1 Axes>"
      ]
     },
     "metadata": {},
     "output_type": "display_data"
    }
   ],
   "source": [
    "plt.figure(figsize=(5,5))\n",
    "columns = ['cal_fat', 'calcium', 'cholesterol', 'sodium','total_carb', 'total_fat','protein', 'vit_c', 'sugar']\n",
    "row = data.loc[0]\n",
    "colors = ['cyan','green','teal','royalblue','navy','blue','seagreen','lightseagreen','deepskyblue','turqouise','lightblue']\n",
    "size = {'fontsize': 7}\n",
    "plt.pie(row[columns], colors=colors, labels=columns, autopct='%1.1f%%',textprops = size)\n",
    "plt.title(\"Pie chart for the nutrients content in the Artisan Grilled Chicken Sandwich from Mcdonalds\")\n",
    "plt.show()"
   ]
  },
  {
   "cell_type": "code",
   "execution_count": 388,
   "id": "08dcc252",
   "metadata": {
    "execution": {
     "iopub.execute_input": "2023-10-18T06:53:48.507623Z",
     "iopub.status.busy": "2023-10-18T06:53:48.507038Z",
     "iopub.status.idle": "2023-10-18T06:53:48.512937Z",
     "shell.execute_reply": "2023-10-18T06:53:48.511697Z"
    },
    "papermill": {
     "duration": 0.018396,
     "end_time": "2023-10-18T06:53:48.514980",
     "exception": false,
     "start_time": "2023-10-18T06:53:48.496584",
     "status": "completed"
    },
    "tags": []
   },
   "outputs": [],
   "source": [
    "data = data.drop(columns = ['item'])"
   ]
  },
  {
   "cell_type": "code",
   "execution_count": 389,
   "id": "be46e2ec",
   "metadata": {
    "execution": {
     "iopub.execute_input": "2023-10-18T06:53:48.535371Z",
     "iopub.status.busy": "2023-10-18T06:53:48.534643Z",
     "iopub.status.idle": "2023-10-18T06:53:48.935178Z",
     "shell.execute_reply": "2023-10-18T06:53:48.934179Z"
    },
    "papermill": {
     "duration": 0.413462,
     "end_time": "2023-10-18T06:53:48.937724",
     "exception": false,
     "start_time": "2023-10-18T06:53:48.524262",
     "status": "completed"
    },
    "tags": []
   },
   "outputs": [
    {
     "data": {
      "image/png": "[encoded data removed]",
      "text/plain": [
       "<Figure size 640x480 with 1 Axes>"
      ]
     },
     "metadata": {},
     "output_type": "display_data"
    }
   ],
   "source": [
    "sns.scatterplot(x='calories', y='restaurant', data=data, hue='restaurant', palette='colorblind')\n",
    "\n",
    "plt.xlabel('Calories')\n",
    "plt.ylabel('Restaurant')\n",
    "plt.title('Restaurant vs Calories')\n",
    "\n",
    "plt.show()"
   ]
  },
  {
   "cell_type": "code",
   "execution_count": 390,
   "id": "913c76cf",
   "metadata": {
    "execution": {
     "iopub.execute_input": "2023-10-18T06:53:48.959684Z",
     "iopub.status.busy": "2023-10-18T06:53:48.959349Z",
     "iopub.status.idle": "2023-10-18T06:53:48.965812Z",
     "shell.execute_reply": "2023-10-18T06:53:48.964797Z"
    },
    "papermill": {
     "duration": 0.020107,
     "end_time": "2023-10-18T06:53:48.968056",
     "exception": false,
     "start_time": "2023-10-18T06:53:48.947949",
     "status": "completed"
    },
    "tags": []
   },
   "outputs": [
    {
     "data": {
      "text/plain": [
       "array(['Mcdonalds', 'Chick Fil-A', 'Sonic', 'Arbys', 'Burger King',\n",
       "       'Dairy Queen', 'Subway', 'Taco Bell'], dtype=object)"
      ]
     },
     "execution_count": 390,
     "metadata": {},
     "output_type": "execute_result"
    }
   ],
   "source": [
    "data['restaurant'].unique()"
   ]
  },
  {
   "cell_type": "code",
   "execution_count": 391,
   "id": "19fab68c",
   "metadata": {
    "execution": {
     "iopub.execute_input": "2023-10-18T06:53:48.992100Z",
     "iopub.status.busy": "2023-10-18T06:53:48.991737Z",
     "iopub.status.idle": "2023-10-18T06:53:48.998170Z",
     "shell.execute_reply": "2023-10-18T06:53:48.997479Z"
    },
    "papermill": {
     "duration": 0.020168,
     "end_time": "2023-10-18T06:53:48.999966",
     "exception": false,
     "start_time": "2023-10-18T06:53:48.979798",
     "status": "completed"
    },
    "tags": []
   },
   "outputs": [],
   "source": [
    "replace = {'Mcdonalds':1, 'Chick Fil-A':2, 'Sonic':3, 'Arbys':4, 'Burger King':5,\n",
    "       'Dairy Queen':6, 'Subway':7, 'Taco Bell':8}\n",
    "data['restaurant'] = data['restaurant'].replace(replace)"
   ]
  },
  {
   "cell_type": "code",
   "execution_count": 392,
   "id": "39a111bd",
   "metadata": {
    "execution": {
     "iopub.execute_input": "2023-10-18T06:53:49.023104Z",
     "iopub.status.busy": "2023-10-18T06:53:49.022414Z",
     "iopub.status.idle": "2023-10-18T06:53:49.030161Z",
     "shell.execute_reply": "2023-10-18T06:53:49.029155Z"
    },
    "papermill": {
     "duration": 0.021623,
     "end_time": "2023-10-18T06:53:49.032322",
     "exception": false,
     "start_time": "2023-10-18T06:53:49.010699",
     "status": "completed"
    },
    "tags": []
   },
   "outputs": [
    {
     "data": {
      "text/plain": [
       "array([1, 2, 3, 4, 5, 6, 7, 8], dtype=int64)"
      ]
     },
     "execution_count": 392,
     "metadata": {},
     "output_type": "execute_result"
    }
   ],
   "source": [
    "data['restaurant'].unique()"
   ]
  },
  {
   "cell_type": "code",
   "execution_count": 393,
   "id": "c9893e5e",
   "metadata": {
    "execution": {
     "iopub.execute_input": "2023-10-18T06:53:49.055381Z",
     "iopub.status.busy": "2023-10-18T06:53:49.054984Z",
     "iopub.status.idle": "2023-10-18T06:53:49.072085Z",
     "shell.execute_reply": "2023-10-18T06:53:49.071122Z"
    },
    "papermill": {
     "duration": 0.031087,
     "end_time": "2023-10-18T06:53:49.074342",
     "exception": false,
     "start_time": "2023-10-18T06:53:49.043255",
     "status": "completed"
    },
    "tags": []
   },
   "outputs": [
    {
     "data": {
      "text/html": [
       "<div>\n",
       "<style scoped>\n",
       "    .dataframe tbody tr th:only-of-type {\n",
       "        vertical-align: middle;\n",
       "    }\n",
       "\n",
       "    .dataframe tbody tr th {\n",
       "        vertical-align: top;\n",
       "    }\n",
       "\n",
       "    .dataframe thead th {\n",
       "        text-align: right;\n",
       "    }\n",
       "</style>\n",
       "<table border=\"1\" class=\"dataframe\">\n",
       "  <thead>\n",
       "    <tr style=\"text-align: right;\">\n",
       "      <th></th>\n",
       "      <th>restaurant</th>\n",
       "      <th>calories</th>\n",
       "      <th>cal_fat</th>\n",
       "      <th>total_fat</th>\n",
       "      <th>sat_fat</th>\n",
       "      <th>trans_fat</th>\n",
       "      <th>cholesterol</th>\n",
       "      <th>sodium</th>\n",
       "      <th>total_carb</th>\n",
       "      <th>fiber</th>\n",
       "      <th>sugar</th>\n",
       "      <th>protein</th>\n",
       "      <th>vit_a</th>\n",
       "      <th>vit_c</th>\n",
       "      <th>calcium</th>\n",
       "    </tr>\n",
       "  </thead>\n",
       "  <tbody>\n",
       "    <tr>\n",
       "      <th>0</th>\n",
       "      <td>1</td>\n",
       "      <td>380</td>\n",
       "      <td>60</td>\n",
       "      <td>7</td>\n",
       "      <td>2.0</td>\n",
       "      <td>0.0</td>\n",
       "      <td>95</td>\n",
       "      <td>1110</td>\n",
       "      <td>44</td>\n",
       "      <td>3.0</td>\n",
       "      <td>11</td>\n",
       "      <td>37.0</td>\n",
       "      <td>4.0</td>\n",
       "      <td>20.0</td>\n",
       "      <td>20.0</td>\n",
       "    </tr>\n",
       "    <tr>\n",
       "      <th>1</th>\n",
       "      <td>1</td>\n",
       "      <td>840</td>\n",
       "      <td>410</td>\n",
       "      <td>45</td>\n",
       "      <td>17.0</td>\n",
       "      <td>1.5</td>\n",
       "      <td>130</td>\n",
       "      <td>1580</td>\n",
       "      <td>62</td>\n",
       "      <td>2.0</td>\n",
       "      <td>18</td>\n",
       "      <td>46.0</td>\n",
       "      <td>6.0</td>\n",
       "      <td>20.0</td>\n",
       "      <td>20.0</td>\n",
       "    </tr>\n",
       "    <tr>\n",
       "      <th>2</th>\n",
       "      <td>1</td>\n",
       "      <td>1130</td>\n",
       "      <td>600</td>\n",
       "      <td>67</td>\n",
       "      <td>27.0</td>\n",
       "      <td>3.0</td>\n",
       "      <td>220</td>\n",
       "      <td>1920</td>\n",
       "      <td>63</td>\n",
       "      <td>3.0</td>\n",
       "      <td>18</td>\n",
       "      <td>70.0</td>\n",
       "      <td>10.0</td>\n",
       "      <td>20.0</td>\n",
       "      <td>50.0</td>\n",
       "    </tr>\n",
       "    <tr>\n",
       "      <th>3</th>\n",
       "      <td>1</td>\n",
       "      <td>750</td>\n",
       "      <td>280</td>\n",
       "      <td>31</td>\n",
       "      <td>10.0</td>\n",
       "      <td>0.5</td>\n",
       "      <td>155</td>\n",
       "      <td>1940</td>\n",
       "      <td>62</td>\n",
       "      <td>2.0</td>\n",
       "      <td>18</td>\n",
       "      <td>55.0</td>\n",
       "      <td>6.0</td>\n",
       "      <td>25.0</td>\n",
       "      <td>20.0</td>\n",
       "    </tr>\n",
       "    <tr>\n",
       "      <th>4</th>\n",
       "      <td>1</td>\n",
       "      <td>920</td>\n",
       "      <td>410</td>\n",
       "      <td>45</td>\n",
       "      <td>12.0</td>\n",
       "      <td>0.5</td>\n",
       "      <td>120</td>\n",
       "      <td>1980</td>\n",
       "      <td>81</td>\n",
       "      <td>4.0</td>\n",
       "      <td>18</td>\n",
       "      <td>46.0</td>\n",
       "      <td>6.0</td>\n",
       "      <td>20.0</td>\n",
       "      <td>20.0</td>\n",
       "    </tr>\n",
       "  </tbody>\n",
       "</table>\n",
       "</div>"
      ],
      "text/plain": [
       "   restaurant  calories  cal_fat  total_fat  sat_fat  trans_fat  cholesterol  \\\n",
       "0           1       380       60          7      2.0        0.0           95   \n",
       "1           1       840      410         45     17.0        1.5          130   \n",
       "2           1      1130      600         67     27.0        3.0          220   \n",
       "3           1       750      280         31     10.0        0.5          155   \n",
       "4           1       920      410         45     12.0        0.5          120   \n",
       "\n",
       "   sodium  total_carb  fiber  sugar  protein  vit_a  vit_c  calcium  \n",
       "0    1110          44    3.0     11     37.0    4.0   20.0     20.0  \n",
       "1    1580          62    2.0     18     46.0    6.0   20.0     20.0  \n",
       "2    1920          63    3.0     18     70.0   10.0   20.0     50.0  \n",
       "3    1940          62    2.0     18     55.0    6.0   25.0     20.0  \n",
       "4    1980          81    4.0     18     46.0    6.0   20.0     20.0  "
      ]
     },
     "execution_count": 393,
     "metadata": {},
     "output_type": "execute_result"
    }
   ],
   "source": [
    "data.head()"
   ]
  },
  {
   "cell_type": "code",
   "execution_count": 394,
   "id": "cf7d4f4a",
   "metadata": {
    "execution": {
     "iopub.execute_input": "2023-10-18T06:53:49.157327Z",
     "iopub.status.busy": "2023-10-18T06:53:49.156260Z",
     "iopub.status.idle": "2023-10-18T06:53:49.165225Z",
     "shell.execute_reply": "2023-10-18T06:53:49.164419Z"
    },
    "papermill": {
     "duration": 0.023888,
     "end_time": "2023-10-18T06:53:49.167065",
     "exception": false,
     "start_time": "2023-10-18T06:53:49.143177",
     "status": "completed"
    },
    "tags": []
   },
   "outputs": [
    {
     "data": {
      "text/plain": [
       "restaurant     0\n",
       "calories       0\n",
       "cal_fat        0\n",
       "total_fat      0\n",
       "sat_fat        0\n",
       "trans_fat      0\n",
       "cholesterol    0\n",
       "sodium         0\n",
       "total_carb     0\n",
       "fiber          0\n",
       "sugar          0\n",
       "protein        0\n",
       "vit_a          0\n",
       "vit_c          0\n",
       "calcium        0\n",
       "dtype: int64"
      ]
     },
     "execution_count": 394,
     "metadata": {},
     "output_type": "execute_result"
    }
   ],
   "source": [
    "data.isnull().sum()"
   ]
  },
  {
   "cell_type": "code",
   "execution_count": 395,
   "id": "37723e5f",
   "metadata": {
    "execution": {
     "iopub.execute_input": "2023-10-18T06:53:49.191279Z",
     "iopub.status.busy": "2023-10-18T06:53:49.190609Z",
     "iopub.status.idle": "2023-10-18T06:53:49.891703Z",
     "shell.execute_reply": "2023-10-18T06:53:49.890675Z"
    },
    "papermill": {
     "duration": 0.715647,
     "end_time": "2023-10-18T06:53:49.893814",
     "exception": false,
     "start_time": "2023-10-18T06:53:49.178167",
     "status": "completed"
    },
    "tags": []
   },
   "outputs": [
    {
     "data": {
      "image/png": "[encoded data removed]",
      "text/plain": [
       "<Figure size 1000x800 with 2 Axes>"
      ]
     },
     "metadata": {},
     "output_type": "display_data"
    }
   ],
   "source": [
    "columns_to_plot = ['calories', 'cal_fat', 'trans_fat', 'sat_fat', 'calcium', 'fiber', 'cholesterol', 'sodium','total_carb', 'total_fat','protein', 'vit_a', 'vit_c', 'sugar']\n",
    "data_to_plot = data[columns_to_plot]\n",
    "plt.figure(figsize=(10, 8))\n",
    "sns.heatmap(data_to_plot.corr(), annot=True, cmap='coolwarm', linewidths=0.5)\n",
    "plt.title('Correlation Matrix of calories and nutrients')\n",
    "plt.show()"
   ]
  },
  {
   "cell_type": "code",
   "execution_count": 396,
   "id": "eba7f786",
   "metadata": {
    "execution": {
     "iopub.execute_input": "2023-10-18T06:53:49.923116Z",
     "iopub.status.busy": "2023-10-18T06:53:49.922199Z",
     "iopub.status.idle": "2023-10-18T06:53:49.929627Z",
     "shell.execute_reply": "2023-10-18T06:53:49.928731Z"
    },
    "papermill": {
     "duration": 0.024107,
     "end_time": "2023-10-18T06:53:49.931437",
     "exception": false,
     "start_time": "2023-10-18T06:53:49.907330",
     "status": "completed"
    },
    "tags": []
   },
   "outputs": [
    {
     "data": {
      "text/plain": [
       "0       380\n",
       "1       840\n",
       "2      1130\n",
       "3       750\n",
       "4       920\n",
       "       ... \n",
       "510     780\n",
       "511     580\n",
       "512     780\n",
       "513     720\n",
       "514     720\n",
       "Name: calories, Length: 503, dtype: int64"
      ]
     },
     "execution_count": 396,
     "metadata": {},
     "output_type": "execute_result"
    }
   ],
   "source": [
    "target = data['calories']\n",
    "target"
   ]
  },
  {
   "cell_type": "code",
   "execution_count": 397,
   "id": "f11f8bfd",
   "metadata": {
    "execution": {
     "iopub.execute_input": "2023-10-18T06:53:49.961264Z",
     "iopub.status.busy": "2023-10-18T06:53:49.960895Z",
     "iopub.status.idle": "2023-10-18T06:53:49.966447Z",
     "shell.execute_reply": "2023-10-18T06:53:49.965432Z"
    },
    "papermill": {
     "duration": 0.022914,
     "end_time": "2023-10-18T06:53:49.968285",
     "exception": false,
     "start_time": "2023-10-18T06:53:49.945371",
     "status": "completed"
    },
    "tags": []
   },
   "outputs": [],
   "source": [
    "data = data.drop(columns = ['calories'])"
   ]
  },
  {
   "cell_type": "code",
   "execution_count": 398,
   "id": "d46f3f87",
   "metadata": {
    "execution": {
     "iopub.execute_input": "2023-10-18T06:53:49.997484Z",
     "iopub.status.busy": "2023-10-18T06:53:49.996859Z",
     "iopub.status.idle": "2023-10-18T06:53:50.012343Z",
     "shell.execute_reply": "2023-10-18T06:53:50.011295Z"
    },
    "papermill": {
     "duration": 0.032158,
     "end_time": "2023-10-18T06:53:50.014158",
     "exception": false,
     "start_time": "2023-10-18T06:53:49.982000",
     "status": "completed"
    },
    "tags": []
   },
   "outputs": [
    {
     "data": {
      "text/html": [
       "<div>\n",
       "<style scoped>\n",
       "    .dataframe tbody tr th:only-of-type {\n",
       "        vertical-align: middle;\n",
       "    }\n",
       "\n",
       "    .dataframe tbody tr th {\n",
       "        vertical-align: top;\n",
       "    }\n",
       "\n",
       "    .dataframe thead th {\n",
       "        text-align: right;\n",
       "    }\n",
       "</style>\n",
       "<table border=\"1\" class=\"dataframe\">\n",
       "  <thead>\n",
       "    <tr style=\"text-align: right;\">\n",
       "      <th></th>\n",
       "      <th>restaurant</th>\n",
       "      <th>cal_fat</th>\n",
       "      <th>total_fat</th>\n",
       "      <th>sat_fat</th>\n",
       "      <th>trans_fat</th>\n",
       "      <th>cholesterol</th>\n",
       "      <th>sodium</th>\n",
       "      <th>total_carb</th>\n",
       "      <th>fiber</th>\n",
       "      <th>sugar</th>\n",
       "      <th>protein</th>\n",
       "      <th>vit_a</th>\n",
       "      <th>vit_c</th>\n",
       "      <th>calcium</th>\n",
       "    </tr>\n",
       "  </thead>\n",
       "  <tbody>\n",
       "    <tr>\n",
       "      <th>0</th>\n",
       "      <td>1</td>\n",
       "      <td>60</td>\n",
       "      <td>7</td>\n",
       "      <td>2.0</td>\n",
       "      <td>0.0</td>\n",
       "      <td>95</td>\n",
       "      <td>1110</td>\n",
       "      <td>44</td>\n",
       "      <td>3.0</td>\n",
       "      <td>11</td>\n",
       "      <td>37.0</td>\n",
       "      <td>4.0</td>\n",
       "      <td>20.0</td>\n",
       "      <td>20.0</td>\n",
       "    </tr>\n",
       "    <tr>\n",
       "      <th>1</th>\n",
       "      <td>1</td>\n",
       "      <td>410</td>\n",
       "      <td>45</td>\n",
       "      <td>17.0</td>\n",
       "      <td>1.5</td>\n",
       "      <td>130</td>\n",
       "      <td>1580</td>\n",
       "      <td>62</td>\n",
       "      <td>2.0</td>\n",
       "      <td>18</td>\n",
       "      <td>46.0</td>\n",
       "      <td>6.0</td>\n",
       "      <td>20.0</td>\n",
       "      <td>20.0</td>\n",
       "    </tr>\n",
       "    <tr>\n",
       "      <th>2</th>\n",
       "      <td>1</td>\n",
       "      <td>600</td>\n",
       "      <td>67</td>\n",
       "      <td>27.0</td>\n",
       "      <td>3.0</td>\n",
       "      <td>220</td>\n",
       "      <td>1920</td>\n",
       "      <td>63</td>\n",
       "      <td>3.0</td>\n",
       "      <td>18</td>\n",
       "      <td>70.0</td>\n",
       "      <td>10.0</td>\n",
       "      <td>20.0</td>\n",
       "      <td>50.0</td>\n",
       "    </tr>\n",
       "    <tr>\n",
       "      <th>3</th>\n",
       "      <td>1</td>\n",
       "      <td>280</td>\n",
       "      <td>31</td>\n",
       "      <td>10.0</td>\n",
       "      <td>0.5</td>\n",
       "      <td>155</td>\n",
       "      <td>1940</td>\n",
       "      <td>62</td>\n",
       "      <td>2.0</td>\n",
       "      <td>18</td>\n",
       "      <td>55.0</td>\n",
       "      <td>6.0</td>\n",
       "      <td>25.0</td>\n",
       "      <td>20.0</td>\n",
       "    </tr>\n",
       "    <tr>\n",
       "      <th>4</th>\n",
       "      <td>1</td>\n",
       "      <td>410</td>\n",
       "      <td>45</td>\n",
       "      <td>12.0</td>\n",
       "      <td>0.5</td>\n",
       "      <td>120</td>\n",
       "      <td>1980</td>\n",
       "      <td>81</td>\n",
       "      <td>4.0</td>\n",
       "      <td>18</td>\n",
       "      <td>46.0</td>\n",
       "      <td>6.0</td>\n",
       "      <td>20.0</td>\n",
       "      <td>20.0</td>\n",
       "    </tr>\n",
       "  </tbody>\n",
       "</table>\n",
       "</div>"
      ],
      "text/plain": [
       "   restaurant  cal_fat  total_fat  sat_fat  trans_fat  cholesterol  sodium  \\\n",
       "0           1       60          7      2.0        0.0           95    1110   \n",
       "1           1      410         45     17.0        1.5          130    1580   \n",
       "2           1      600         67     27.0        3.0          220    1920   \n",
       "3           1      280         31     10.0        0.5          155    1940   \n",
       "4           1      410         45     12.0        0.5          120    1980   \n",
       "\n",
       "   total_carb  fiber  sugar  protein  vit_a  vit_c  calcium  \n",
       "0          44    3.0     11     37.0    4.0   20.0     20.0  \n",
       "1          62    2.0     18     46.0    6.0   20.0     20.0  \n",
       "2          63    3.0     18     70.0   10.0   20.0     50.0  \n",
       "3          62    2.0     18     55.0    6.0   25.0     20.0  \n",
       "4          81    4.0     18     46.0    6.0   20.0     20.0  "
      ]
     },
     "execution_count": 398,
     "metadata": {},
     "output_type": "execute_result"
    }
   ],
   "source": [
    "data.head()"
   ]
  },
  {
   "cell_type": "markdown",
   "id": "3f6bc8b8",
   "metadata": {
    "papermill": {
     "duration": 0.013656,
     "end_time": "2023-10-18T06:53:50.041760",
     "exception": false,
     "start_time": "2023-10-18T06:53:50.028104",
     "status": "completed"
    },
    "tags": []
   },
   "source": [
    "#### SPLITTING DATASET INTO TRAINING AND TESTING SETS"
   ]
  },
  {
   "cell_type": "code",
   "execution_count": 399,
   "id": "be058293",
   "metadata": {
    "execution": {
     "iopub.execute_input": "2023-10-18T06:53:50.070946Z",
     "iopub.status.busy": "2023-10-18T06:53:50.070302Z",
     "iopub.status.idle": "2023-10-18T06:53:50.076021Z",
     "shell.execute_reply": "2023-10-18T06:53:50.075311Z"
    },
    "papermill": {
     "duration": 0.022455,
     "end_time": "2023-10-18T06:53:50.077843",
     "exception": false,
     "start_time": "2023-10-18T06:53:50.055388",
     "status": "completed"
    },
    "tags": []
   },
   "outputs": [],
   "source": [
    "train_data, test_data, train_target, test_target = train_test_split(data,target,test_size=0.25,random_state=42)"
   ]
  },
  {
   "cell_type": "code",
   "execution_count": 400,
   "id": "fd7ef2b1",
   "metadata": {
    "execution": {
     "iopub.execute_input": "2023-10-18T06:53:50.107788Z",
     "iopub.status.busy": "2023-10-18T06:53:50.107140Z",
     "iopub.status.idle": "2023-10-18T06:53:50.110865Z",
     "shell.execute_reply": "2023-10-18T06:53:50.110243Z"
    },
    "papermill": {
     "duration": 0.020828,
     "end_time": "2023-10-18T06:53:50.112643",
     "exception": false,
     "start_time": "2023-10-18T06:53:50.091815",
     "status": "completed"
    },
    "tags": []
   },
   "outputs": [],
   "source": [
    "test_target = test_target.ravel()"
   ]
  },
  {
   "cell_type": "code",
   "execution_count": 401,
   "id": "9581199d",
   "metadata": {},
   "outputs": [
    {
     "name": "stdout",
     "output_type": "stream",
     "text": [
      "Mean Squared Error: 536.7532139995396\n",
      "Root Mean Squared Error: 23.16793503960894\n",
      "Model Accuracy (R² Score): 99.39%\n"
     ]
    }
   ],
   "source": [
    "from sklearn.metrics import mean_squared_error\n",
    "from sklearn.linear_model import LinearRegression\n",
    "from sklearn.metrics import r2_score\n",
    "\n",
    "model = LinearRegression()\n",
    "\n",
    "model.fit(train_data, train_target)\n",
    "Y_pred = model.predict(test_data)\n",
    "mse = mean_squared_error(test_target, Y_pred)\n",
    "rmse = np.sqrt(mse)\n",
    "r2 = r2_score(test_target, Y_pred) * 100  \n",
    "print(\"Mean Squared Error:\", mse)\n",
    "print(\"Root Mean Squared Error:\", rmse)\n",
    "print(f\"Model Accuracy (R² Score): {r2:.2f}%\")\n"
   ]
  },
  {
   "cell_type": "code",
   "execution_count": 402,
   "id": "f6fca6fc",
   "metadata": {},
   "outputs": [
    {
     "name": "stdout",
     "output_type": "stream",
     "text": [
      "Predicted Calories: 917.90\n",
      "Actual Calories: 920\n"
     ]
    }
   ],
   "source": [
    "custom_input = pd.DataFrame([{\n",
    "    \"restaurant\": 2,  \n",
    "    \"cal_fat\": 500,\n",
    "    \"total_fat\": 50,\n",
    "    \"sat_fat\": 15.0,\n",
    "    \"trans_fat\": 1.0,\n",
    "    \"cholesterol\": 100,\n",
    "    \"sodium\": 1500,\n",
    "    \"total_carb\": 70,\n",
    "    \"fiber\": 5.0,\n",
    "    \"sugar\": 12,\n",
    "    \"protein\": 40.0,\n",
    "    \"vit_a\": 8.0,\n",
    "    \"vit_c\": 25.0,\n",
    "    \"calcium\": 30.0\n",
    "}], columns=train_data.columns)\n",
    "predicted_calories = model.predict(custom_input)[0]\n",
    "\n",
    "# Real value for reference (example)\n",
    "actual_calories = 920  \n",
    "\n",
    "print(f\"Predicted Calories: {predicted_calories:.2f}\")\n",
    "print(f\"Actual Calories: {actual_calories}\")\n"
   ]
  },
  {
   "cell_type": "code",
   "execution_count": null,
   "id": "115009b1",
   "metadata": {},
   "outputs": [],
   "source": []
  },
  {
   "cell_type": "code",
   "execution_count": null,
   "id": "3598a0a3",
   "metadata": {},
   "outputs": [],
   "source": []
  },
  {
   "cell_type": "code",
   "execution_count": null,
   "id": "4adf4ee8",
   "metadata": {},
   "outputs": [],
   "source": []
  }
 ],
 "metadata": {
  "kernelspec": {
   "display_name": "Python 3 (ipykernel)",
   "language": "python",
   "name": "python3"
  },
  "language_info": {
   "codemirror_mode": {
    "name": "ipython",
    "version": 3
   },
   "file_extension": ".py",
   "mimetype": "text/x-python",
   "name": "python",
   "nbconvert_exporter": "python",
   "pygments_lexer": "ipython3",
   "version": "3.10.9"
  },
  "papermill": {
   "default_parameters": {},
   "duration": 9.095886,
   "end_time": "2023-10-18T06:53:51.733545",
   "environment_variables": {},
   "exception": null,
   "input_path": "__notebook__.ipynb",
   "output_path": "__notebook__.ipynb",
   "parameters": {},
   "start_time": "2023-10-18T06:53:42.637659",
   "version": "2.4.0"
  }
 },
 "nbformat": 4,
 "nbformat_minor": 5
}
